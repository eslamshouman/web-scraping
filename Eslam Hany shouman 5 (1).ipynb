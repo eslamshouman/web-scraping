{
 "cells": [
  {
   "cell_type": "code",
   "execution_count": null,
   "metadata": {},
   "outputs": [
    {
     "name": "stdout",
     "output_type": "stream",
     "text": [
      "High23°\n"
     ]
    }
   ],
   "source": [
    "# The libraries we need for the project\n",
    "import requests\n",
    "from bs4 import BeautifulSoup\n",
    "from datetime import datetime\n",
    "import time\n",
    "\n",
    "#############################################################################################\n",
    "\n",
    "while True:\n",
    "    url ='https://www.bbc.com/weather/360630'  # this is the web page we will scrape it\n",
    "    response = requests.request('GET', url)   # request acess the web page\n",
    "    \n",
    "    web = BeautifulSoup(response.text, 'html.parser') # make python understand HTML language\n",
    "    \n",
    "    # start indexing the data you want\n",
    "    data = web.find_all('div', attrs={'class':'wr-day-carousel__viewport wr-js-day-carousel-scroll'})\n",
    "    data1 = data[0].find('div').text\n",
    "    weather = data1.split()\n",
    "    weather_now = weather[10] \n",
    "    \n",
    "    print(weather_now) #print the data you want\n",
    "    \n",
    "    weather_f = open('weather.txt', 'a') #open a text file to save the data \n",
    "    now = datetime.now()\n",
    "    time1 = now.strftime(\"%d/%m/%Y, %H:%M:%S\") #foramte the time you want\n",
    "    \n",
    "    final = 'The weather now '+ weather_now +'\\t'+ time1 +'\\n\\n'\n",
    "    weather_f.write(final)\n",
    "    weather_f.close()\n",
    "    \n",
    "    time.sleep(3600) # make the code run each hour to download the change of data \n",
    "    \n",
    "    \n",
    "    \n",
    "    "
   ]
  },
  {
   "cell_type": "code",
   "execution_count": null,
   "metadata": {},
   "outputs": [],
   "source": []
  }
 ],
 "metadata": {
  "kernelspec": {
   "display_name": "Python 3",
   "language": "python",
   "name": "python3"
  },
  "language_info": {
   "codemirror_mode": {
    "name": "ipython",
    "version": 3
   },
   "file_extension": ".py",
   "mimetype": "text/x-python",
   "name": "python",
   "nbconvert_exporter": "python",
   "pygments_lexer": "ipython3",
   "version": "3.8.5"
  }
 },
 "nbformat": 4,
 "nbformat_minor": 4
}
